{
  "cells": [
    {
      "cell_type": "markdown",
      "metadata": {
        "id": "view-in-github",
        "colab_type": "text"
      },
      "source": [
        "<a href=\"https://colab.research.google.com/github/JoseAugustoRocha/JoseAugustoRocha/blob/main/Forca.ipynb\" target=\"_parent\"><img src=\"https://colab.research.google.com/assets/colab-badge.svg\" alt=\"Open In Colab\"/></a>"
      ]
    },
    {
      "cell_type": "code",
      "execution_count": null,
      "metadata": {
        "colab": {
          "base_uri": "https://localhost:8080/"
        },
        "id": "YutUL3R1Hy9T",
        "outputId": "44e8758d-eec3-4194-8660-63aedba4e65b"
      },
      "outputs": [
        {
          "output_type": "stream",
          "name": "stdout",
          "text": [
            "----\n",
            "Digite uma letra: 5\n",
            "Letra não encontrada. Você tem mais 5 tentativas\n",
            "----\n",
            "Digite uma letra: a\n",
            "a--a\n",
            "Digite uma letra: l\n",
            "a-la\n",
            "Digite uma letra: u\n",
            "Parabéns, você ganhou!\n"
          ]
        }
      ],
      "source": [
        "import random\n",
        "\n",
        "#cria uma lista de palavras que serão sorteadas\n",
        "palavras = ['python', 'programacao', 'computador', 'aula', 'variavel']\n",
        "\n",
        "#escolhe-se uma das palavras\n",
        "palavra_sorteada=random.choice(palavras)\n",
        "\n",
        "#cria-se uma string com traços que representam as letras\n",
        "palavra_escondida = '-' * len(palavra_sorteada)\n",
        "palavra_escondida\n",
        "\n",
        "#criamos uma lista vazia para armazenar as letras que já foram faladas\n",
        "letras_advinhadas = []\n",
        "\n",
        "max_tentativas = 6\n",
        "\n",
        "while True:\n",
        "  #mostra na tela a palavra escondida\n",
        "  print(palavra_escondida)\n",
        "\n",
        "  #pedimos ao jogador para digitar uma letra\n",
        "  letra = input ('Digite uma letra: ')\n",
        "\n",
        "  #verificamos se a letra já foi digitada\n",
        "  if letra in letras_advinhadas:\n",
        "    print('Você já digitou essa letra. Tente outra por favor')\n",
        "    continue\n",
        "\n",
        "  #adicionar a letra à lista de letras digitadas\n",
        "  letras_advinhadas.append(letra)\n",
        "\n",
        "  #verificar se a letra digitada está na palavra sorteada\n",
        "  if letra in palavra_sorteada:\n",
        "    lista = []\n",
        "    for indice in range (len(palavra_sorteada)):\n",
        "      if letra == palavra_sorteada [indice]:\n",
        "        lista.append(letra)\n",
        "      else:\n",
        "        lista.append(palavra_escondida[indice])\n",
        "    palavra_escondida = ''.join(lista) #se o jogador digitou a letra \"a\" e a palavra é \"aula\", teremos \"a--a\"\n",
        "\n",
        "  else:\n",
        "    max_tentativas -=1\n",
        "    print (f'Letra não encontrada. Você tem mais {max_tentativas} tentativas')\n",
        "\n",
        "  #verifcamos se o jogador ganhou ou perdeu\n",
        "  if palavra_escondida == palavra_sorteada:\n",
        "    print('Parabéns, você ganhou!')\n",
        "    break\n",
        "  elif max_tentativas == 0:\n",
        "    print (f'Você perdeu. A palavra era {palavra_sorteada}.')\n"
      ]
    }
  ],
  "metadata": {
    "colab": {
      "provenance": [],
      "authorship_tag": "ABX9TyPYC7+0sMqCy1dFws+jjWyW",
      "include_colab_link": true
    },
    "kernelspec": {
      "display_name": "Python 3",
      "name": "python3"
    },
    "language_info": {
      "name": "python"
    }
  },
  "nbformat": 4,
  "nbformat_minor": 0
}